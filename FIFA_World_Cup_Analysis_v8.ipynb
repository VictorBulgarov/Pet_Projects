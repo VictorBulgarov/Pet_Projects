{
 "cells": [
  {
   "cell_type": "code",
   "execution_count": null,
   "id": "d2ea9a56",
   "metadata": {},
   "outputs": [],
   "source": [
    "\n",
    "import pandas as pd\n",
    "import matplotlib.pyplot as plt\n",
    "import plotly.express as px\n"
   ]
  },
  {
   "cell_type": "code",
   "execution_count": null,
   "id": "26d1b922",
   "metadata": {},
   "outputs": [],
   "source": [
    "\n",
    "# Загрузка датасетов\n",
    "world_cups_df = pd.read_csv('WorldCups.csv')\n",
    "matches_df = pd.read_csv('WorldCupMatches.csv')\n",
    "players_df = pd.read_csv('WorldCupPlayers.csv')\n"
   ]
  },
  {
   "cell_type": "markdown",
   "id": "e2f79ba6",
   "metadata": {},
   "source": [
    "## Анализ и Визуализация Данных по Чемпионатам Мира"
   ]
  },
  {
   "cell_type": "code",
   "execution_count": null,
   "id": "62ae2bfd",
   "metadata": {},
   "outputs": [],
   "source": [
    "\n",
    "# Подготовка данных\n",
    "world_cups_df['Attendance'] = world_cups_df['Attendance'].str.replace('.', '').astype(float)\n",
    "top_countries = world_cups_df.groupby('Winner')['Winner'].count().sort_values(ascending=False)\n",
    "\n",
    "# Визуализация данных\n",
    "plt.figure(figsize=(12, 8))\n",
    "top_countries.plot(kind='bar', color=['green', 'black', 'blue', 'pink', 'white', 'purple', 'red', 'lightblue'], edgecolor='black')\n",
    "plt.title('Countries with Most FIFA World Cup Wins')\n",
    "plt.xlabel('Country')\n",
    "plt.ylabel('Number of Wins')\n",
    "plt.xticks(rotation=45)\n",
    "plt.grid(axis='y')\n",
    "plt.show()\n"
   ]
  },
  {
   "cell_type": "markdown",
   "id": "5c33a2a0",
   "metadata": {},
   "source": [
    "## Анализ и Визуализация Данных по Матчам"
   ]
  },
  {
   "cell_type": "code",
   "execution_count": null,
   "id": "4ab065f6",
   "metadata": {},
   "outputs": [],
   "source": [
    "\n",
    "# Подготовка данных\n",
    "matches_df['Total Goals'] = matches_df['Home Team Goals'] + matches_df['Away Team Goals']\n",
    "\n",
    "# ТОП-5 матчей по различным критериям\n",
    "top_matches_by_goals = matches_df.sort_values(by='Total Goals', ascending=False).head(5)\n",
    "top_matches_by_attendance = matches_df.sort_values(by='Attendance', ascending=False).head(5)\n",
    "\n",
    "# Визуализация ТОП-5 матчей по различным критериям с использованием Plotly\n",
    "\n",
    "# График для ТОП-5 матчей с наибольшим количеством голов\n",
    "fig1 = px.bar(top_matches_by_goals.head().sort_values('Total Goals', ascending=True), \n",
    "              x='Total Goals', \n",
    "              y=[' vs '.join(row) for row in top_matches_by_goals.head().sort_values('Total Goals', ascending=True)[['Home Team Name', 'Away Team Name']].values], \n",
    "              title='Top 5 Matches with Most Goals',\n",
    "              labels={'y': 'Match'},\n",
    "              text='Total Goals',\n",
    "              color='Total Goals',\n",
    "              color_continuous_scale='Bluered_r')\n",
    "fig1.update_layout(showlegend=False)\n",
    "fig1.update_traces(texttemplate='%{text}', textposition='inside')\n",
    "fig1.show()\n",
    "\n",
    "# График для ТОП-5 матчей с наибольшей посещаемостью\n",
    "fig2 = px.bar(top_matches_by_attendance.head().sort_values('Attendance', ascending=True), \n",
    "              x='Attendance', \n",
    "              y=[' vs '.join(row) for row in top_matches_by_attendance.head().sort_values('Attendance', ascending=True)[['Home Team Name', 'Away Team Name']].values], \n",
    "              title='Top 5 Matches with Highest Attendance',\n",
    "              labels={'y': 'Match'},\n",
    "              text='Attendance',\n",
    "              color='Attendance',\n",
    "              color_continuous_scale='Reds')\n",
    "fig2.update_layout(showlegend=False)\n",
    "fig2.update_traces(texttemplate='%{text}', textposition='inside')\n",
    "fig2.show()\n"
   ]
  }
 ],
 "metadata": {},
 "nbformat": 4,
 "nbformat_minor": 5
}
